{
 "cells": [
  {
   "cell_type": "code",
   "execution_count": 5,
   "id": "0f5621f4",
   "metadata": {},
   "outputs": [
    {
     "name": "stdout",
     "output_type": "stream",
     "text": [
      "36\n"
     ]
    }
   ],
   "source": [
    "#Question 1 \n",
    "my_list=[2, 3, 6]\n",
    "print(my_list[0]*my_list[1]*my_list[2])"
   ]
  },
  {
   "cell_type": "code",
   "execution_count": 36,
   "id": "a7deb206",
   "metadata": {},
   "outputs": [
    {
     "data": {
      "text/plain": [
       "[(2, 1), (1, 2), (2, 3), (4, 4), (2, 5)]"
      ]
     },
     "execution_count": 36,
     "metadata": {},
     "output_type": "execute_result"
    }
   ],
   "source": [
    "#Question 2\n",
    "def getKey(item):\n",
    "    return item[1]\n",
    "List = [(2, 5), (1, 2), (4, 4), (2, 3), (2, 1)]\n",
    "sorted(List, key=getKey)\n"
   ]
  },
  {
   "cell_type": "code",
   "execution_count": 21,
   "id": "bc8fb26a",
   "metadata": {},
   "outputs": [
    {
     "name": "stdout",
     "output_type": "stream",
     "text": [
      "{'a': 400, 'b': 400, 'c': 300, 'd': 400}\n"
     ]
    }
   ],
   "source": [
    "#Question 3 \n",
    "d1 = {'a': 100, 'b': 200, 'c':300}\n",
    "d2 = {'a': 300, 'b': 200, 'd':400}\n",
    "d={}\n",
    "for key in d1:\n",
    "    if key in d2:\n",
    "        value = d1[key] + d2[key]\n",
    "    else:\n",
    "        value = d1[key]\n",
    "    d[key] = value \n",
    "for key in d2:\n",
    "    if key not in d:\n",
    "        d[key] = d2[key]\n",
    "print(d)        \n",
    "\n",
    "    \n",
    "    \n",
    "\n",
    "    "
   ]
  },
  {
   "cell_type": "code",
   "execution_count": 3,
   "id": "d5bc3d20",
   "metadata": {},
   "outputs": [
    {
     "name": "stdout",
     "output_type": "stream",
     "text": [
      "3\n",
      "{1: 1, 2: 4, 3: 9}\n"
     ]
    }
   ],
   "source": [
    "n=int(input())\n",
    "d=dict()\n",
    "for x in range (1, n+1):\n",
    "    d[x]=x*x\n",
    "print(d)    "
   ]
  },
  {
   "cell_type": "code",
   "execution_count": 5,
   "id": "deec3913",
   "metadata": {},
   "outputs": [
    {
     "data": {
      "text/plain": [
       "[('item3', '24.5'), ('item2', '15.10'), ('item1', '12.20')]"
      ]
     },
     "execution_count": 5,
     "metadata": {},
     "output_type": "execute_result"
    }
   ],
   "source": [
    "def getKey(item):\n",
    "    return item[1]\n",
    "List = [('item1', '12.20'), ('item2', '15.10'), ('item3','24.5')]\n",
    "sorted(List, key=getKey, reverse=True)"
   ]
  },
  {
   "cell_type": "code",
   "execution_count": null,
   "id": "f8ec9474",
   "metadata": {},
   "outputs": [],
   "source": []
  }
 ],
 "metadata": {
  "kernelspec": {
   "display_name": "Python 3 (ipykernel)",
   "language": "python",
   "name": "python3"
  },
  "language_info": {
   "codemirror_mode": {
    "name": "ipython",
    "version": 3
   },
   "file_extension": ".py",
   "mimetype": "text/x-python",
   "name": "python",
   "nbconvert_exporter": "python",
   "pygments_lexer": "ipython3",
   "version": "3.9.7"
  }
 },
 "nbformat": 4,
 "nbformat_minor": 5
}
